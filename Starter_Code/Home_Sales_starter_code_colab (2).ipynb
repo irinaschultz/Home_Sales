{
  "nbformat": 4,
  "nbformat_minor": 0,
  "metadata": {
    "colab": {
      "provenance": []
    },
    "kernelspec": {
      "name": "python3",
      "display_name": "Python 3"
    },
    "language_info": {
      "name": "python"
    }
  },
  "cells": [
    {
      "cell_type": "code",
      "execution_count": 1,
      "metadata": {
        "colab": {
          "base_uri": "https://localhost:8080/"
        },
        "id": "jheW3p9MhFK7",
        "outputId": "7f9b405f-0ccc-4542-dbb8-ed975bd5c5a7"
      },
      "outputs": [
        {
          "output_type": "stream",
          "name": "stdout",
          "text": [
            "\r0% [Working]\r            \rGet:1 http://security.ubuntu.com/ubuntu jammy-security InRelease [110 kB]\n",
            "\r0% [Waiting for headers] [1 InRelease 5,481 B/110 kB 5%] [Waiting for headers] \r                                                                               \rHit:2 http://archive.ubuntu.com/ubuntu jammy InRelease\n",
            "\r0% [Waiting for headers] [1 InRelease 14.2 kB/110 kB 13%] [Waiting for headers]\r                                                                               \rGet:3 https://cloud.r-project.org/bin/linux/ubuntu jammy-cran40/ InRelease [3,626 B]\n",
            "\r0% [Waiting for headers] [1 InRelease 14.2 kB/110 kB 13%] [Connecting to ppa.la\r                                                                               \rGet:4 http://archive.ubuntu.com/ubuntu jammy-updates InRelease [119 kB]\n",
            "Get:5 https://developer.download.nvidia.com/compute/cuda/repos/ubuntu2204/x86_64  InRelease [1,581 B]\n",
            "Get:6 http://archive.ubuntu.com/ubuntu jammy-backports InRelease [109 kB]\n",
            "Get:7 https://developer.download.nvidia.com/compute/cuda/repos/ubuntu2204/x86_64  Packages [458 kB]\n",
            "Get:8 http://security.ubuntu.com/ubuntu jammy-security/universe amd64 Packages [980 kB]\n",
            "Get:9 http://archive.ubuntu.com/ubuntu jammy-updates/universe amd64 Packages [1,241 kB]\n",
            "Hit:10 https://ppa.launchpadcontent.net/c2d4u.team/c2d4u4.0+/ubuntu jammy InRelease\n",
            "Get:11 http://security.ubuntu.com/ubuntu jammy-security/main amd64 Packages [860 kB]\n",
            "Get:12 http://archive.ubuntu.com/ubuntu jammy-updates/main amd64 Packages [1,136 kB]\n",
            "Hit:13 https://ppa.launchpadcontent.net/deadsnakes/ppa/ubuntu jammy InRelease\n",
            "Hit:14 https://ppa.launchpadcontent.net/graphics-drivers/ppa/ubuntu jammy InRelease\n",
            "Hit:15 https://ppa.launchpadcontent.net/ubuntugis/ppa/ubuntu jammy InRelease\n",
            "Fetched 5,018 kB in 2s (2,467 kB/s)\n",
            "Reading package lists... Done\n"
          ]
        }
      ],
      "source": [
        "import os\n",
        "# Find the latest version of spark 3.x  from http://www.apache.org/dist/spark/ and enter as the spark version\n",
        "# For example:\n",
        "# spark_version = 'spark-3.3.1'\n",
        "spark_version = 'spark-3.3.2'\n",
        "os.environ['SPARK_VERSION']=spark_version\n",
        "\n",
        "# Install Spark and Java\n",
        "!apt-get update\n",
        "!apt-get install openjdk-11-jdk-headless -qq > /dev/null\n",
        "!wget -q http://www.apache.org/dist/spark/$SPARK_VERSION/$SPARK_VERSION-bin-hadoop3.tgz\n",
        "!tar xf $SPARK_VERSION-bin-hadoop3.tgz\n",
        "!pip install -q findspark\n",
        "\n",
        "# Set Environment Variables\n",
        "os.environ[\"JAVA_HOME\"] = \"/usr/lib/jvm/java-11-openjdk-amd64\"\n",
        "os.environ[\"SPARK_HOME\"] = f\"/content/{spark_version}-bin-hadoop3\"\n",
        "\n",
        "# Start a SparkSession\n",
        "import findspark\n",
        "findspark.init()"
      ]
    },
    {
      "cell_type": "code",
      "source": [
        "# Import packages\n",
        "from pyspark.sql import SparkSession\n",
        "import time\n",
        "\n",
        "# Create a SparkSession\n",
        "spark = SparkSession.builder.appName(\"SparkSQL\").getOrCreate()"
      ],
      "metadata": {
        "id": "UcU8dUnQhc4s"
      },
      "execution_count": 2,
      "outputs": []
    },
    {
      "cell_type": "code",
      "source": [
        "\n",
        "\n",
        "from pyspark.sql.functions import round, col\n",
        "\n"
      ],
      "metadata": {
        "id": "WYRkPNGbhkjh"
      },
      "execution_count": 3,
      "outputs": []
    },
    {
      "cell_type": "code",
      "source": [
        "\n",
        "\n",
        "# 1. Read in the AWS S3 bucket into a DataFrame.\n",
        "from pyspark import SparkFiles\n",
        "url = \"https://2u-data-curriculum-team.s3.amazonaws.com/dataviz-classroom/v1.2/22-big-data/home_sales_revised.csv\"\n",
        "spark.sparkContext.addFile(url)\n",
        "df = spark.read.csv(SparkFiles.get('home_sales_revised.csv'), sep=',', header=True)\n",
        "\n",
        "# display the DataFrame\n",
        "df.show()\n",
        "\n"
      ],
      "metadata": {
        "colab": {
          "base_uri": "https://localhost:8080/"
        },
        "id": "8N8acx2Dhp2y",
        "outputId": "f2a7bc75-3fd9-4c52-8212-2eedc78552dd"
      },
      "execution_count": 4,
      "outputs": [
        {
          "output_type": "stream",
          "name": "stdout",
          "text": [
            "+--------------------+----------+----------+------+--------+---------+-----------+--------+------+----------+----+\n",
            "|                  id|      date|date_built| price|bedrooms|bathrooms|sqft_living|sqft_lot|floors|waterfront|view|\n",
            "+--------------------+----------+----------+------+--------+---------+-----------+--------+------+----------+----+\n",
            "|f8a53099-ba1c-47d...|2022-04-08|      2016|936923|       4|        3|       3167|   11733|     2|         1|  76|\n",
            "|7530a2d8-1ae3-451...|2021-06-13|      2013|379628|       2|        2|       2235|   14384|     1|         0|  23|\n",
            "|43de979c-0bf0-4c9...|2019-04-12|      2014|417866|       2|        2|       2127|   10575|     2|         0|   0|\n",
            "|b672c137-b88c-48b...|2019-10-16|      2016|239895|       2|        2|       1631|   11149|     2|         0|   0|\n",
            "|e0726d4d-d595-407...|2022-01-08|      2017|424418|       3|        2|       2249|   13878|     2|         0|   4|\n",
            "|5aa00529-0533-46b...|2019-01-30|      2017|218712|       2|        3|       1965|   14375|     2|         0|   7|\n",
            "|131492a1-72e2-4a8...|2020-02-08|      2017|419199|       2|        3|       2062|    8876|     2|         0|   6|\n",
            "|8d54a71b-c520-44e...|2019-07-21|      2010|323956|       2|        3|       1506|   11816|     1|         0|  25|\n",
            "|e81aacfe-17fe-46b...|2020-06-16|      2016|181925|       3|        3|       2137|   11709|     2|         0|  22|\n",
            "|2ed8d509-7372-46d...|2021-08-06|      2015|258710|       3|        3|       1918|    9666|     1|         0|  25|\n",
            "|f876d86f-3c9f-42b...|2019-02-27|      2011|167864|       3|        3|       2471|   13924|     2|         0|  15|\n",
            "|0a2bd445-8508-4d8...|2021-12-30|      2014|337527|       2|        3|       1926|   12556|     1|         0|  23|\n",
            "|941bad30-eb49-4a7...|2020-05-09|      2015|229896|       3|        3|       2197|    8641|     1|         0|   3|\n",
            "|dd61eb34-6589-4c0...|2021-07-25|      2016|210247|       3|        2|       1672|   11986|     2|         0|  28|\n",
            "|f1e4cef7-d151-439...|2019-02-01|      2011|398667|       2|        3|       2331|   11356|     1|         0|   7|\n",
            "|ea620c7b-c2f7-4c6...|2021-05-31|      2011|437958|       3|        3|       2356|   11052|     1|         0|  26|\n",
            "|f233cb41-6f33-4b0...|2021-07-18|      2016|437375|       4|        3|       1704|   11721|     2|         0|  34|\n",
            "|c797ca12-52cd-4b1...|2019-06-08|      2015|288650|       2|        3|       2100|   10419|     2|         0|   7|\n",
            "|0cfe57f3-28c2-472...|2019-10-04|      2015|308313|       3|        3|       1960|    9453|     2|         0|   2|\n",
            "|4566cd2a-ac6e-435...|2019-07-15|      2016|177541|       3|        3|       2130|   10517|     2|         0|  25|\n",
            "+--------------------+----------+----------+------+--------+---------+-----------+--------+------+----------+----+\n",
            "only showing top 20 rows\n",
            "\n"
          ]
        }
      ]
    },
    {
      "cell_type": "code",
      "source": [
        "# 2. Create a temporary view of the DataFrame.\n",
        "df.createOrReplaceTempView('home_sales')\n",
        "\n",
        "df.printSchema()\n",
        "\n"
      ],
      "metadata": {
        "colab": {
          "base_uri": "https://localhost:8080/"
        },
        "id": "V9rUNIOLh1f4",
        "outputId": "087726d4-7261-4ca8-afda-39357e89618e"
      },
      "execution_count": 5,
      "outputs": [
        {
          "output_type": "stream",
          "name": "stdout",
          "text": [
            "root\n",
            " |-- id: string (nullable = true)\n",
            " |-- date: string (nullable = true)\n",
            " |-- date_built: string (nullable = true)\n",
            " |-- price: string (nullable = true)\n",
            " |-- bedrooms: string (nullable = true)\n",
            " |-- bathrooms: string (nullable = true)\n",
            " |-- sqft_living: string (nullable = true)\n",
            " |-- sqft_lot: string (nullable = true)\n",
            " |-- floors: string (nullable = true)\n",
            " |-- waterfront: string (nullable = true)\n",
            " |-- view: string (nullable = true)\n",
            "\n"
          ]
        }
      ]
    },
    {
      "cell_type": "code",
      "source": [
        "\n",
        "\n",
        "# 3. What is the average price for a four bedroom house sold in each year rounded to two decimal places?\n",
        "\n",
        "spark.sql(\"\"\"SELECT date_built,\n",
        "    ROUND(AVG(price), 2) AS average_price\n",
        "    FROM home_sales\n",
        "    WHERE bedrooms = 4\n",
        "    GROUP BY date_built\n",
        "\"\"\").show()\n",
        "\n"
      ],
      "metadata": {
        "colab": {
          "base_uri": "https://localhost:8080/"
        },
        "id": "oGdpXIaBh8gd",
        "outputId": "78da3d3b-5141-45f9-a5fb-4c800e71f332"
      },
      "execution_count": 6,
      "outputs": [
        {
          "output_type": "stream",
          "name": "stdout",
          "text": [
            "+----------+-------------+\n",
            "|date_built|average_price|\n",
            "+----------+-------------+\n",
            "|      2016|    296050.24|\n",
            "|      2012|    298233.42|\n",
            "|      2017|    296576.69|\n",
            "|      2014|    299073.89|\n",
            "|      2013|    299999.39|\n",
            "|      2011|     302141.9|\n",
            "|      2015|    307908.86|\n",
            "|      2010|    296800.75|\n",
            "+----------+-------------+\n",
            "\n"
          ]
        }
      ]
    },
    {
      "cell_type": "code",
      "source": [
        "# filter the houses with 4 bedrooms\n",
        "four_b_house = df.filter(df[\"bedrooms\"] == 4)\n",
        "\n",
        "# group by the year built and getting the average\n",
        "four_b_price_by_year = four_b_house.groupBy(\"date_built\").agg({\"price\" : \"avg\"})\n",
        "\n",
        "# round the avg(price) by two decimals\n",
        "four_b_price = four_b_price_by_year.withColumn('rounded avg(price)',\n",
        "                                               round((four_b_price_by_year['avg(price)']), 2))\n",
        "\n",
        "# show only the date_built and the rounded average price\n",
        "four_b_price.select(['date_built', 'rounded avg(price)']).show()"
      ],
      "metadata": {
        "colab": {
          "base_uri": "https://localhost:8080/"
        },
        "id": "4PhDQXS8iDeQ",
        "outputId": "6db086d1-6e4c-49fe-b252-5d1f86722698"
      },
      "execution_count": 7,
      "outputs": [
        {
          "output_type": "stream",
          "name": "stdout",
          "text": [
            "+----------+------------------+\n",
            "|date_built|rounded avg(price)|\n",
            "+----------+------------------+\n",
            "|      2016|         296050.24|\n",
            "|      2012|         298233.42|\n",
            "|      2017|         296576.69|\n",
            "|      2014|         299073.89|\n",
            "|      2013|         299999.39|\n",
            "|      2011|          302141.9|\n",
            "|      2015|         307908.86|\n",
            "|      2010|         296800.75|\n",
            "+----------+------------------+\n",
            "\n"
          ]
        }
      ]
    },
    {
      "cell_type": "code",
      "source": [
        "# 4. What is the average price of a home for each year the home was built that have 3 bedrooms and 3\n",
        "# bathrooms rounded to two decimal places?\n",
        "\n",
        "spark.sql(\"\"\"SELECT date_built,\n",
        "    ROUND(AVG(price), 2) AS average_price\n",
        "    FROM home_sales\n",
        "    WHERE bedrooms = 3 AND  bathrooms = 3\n",
        "    GROUP BY date_built\n",
        "\"\"\").show()"
      ],
      "metadata": {
        "colab": {
          "base_uri": "https://localhost:8080/"
        },
        "id": "r8XtslMCiLhK",
        "outputId": "bf26ffa5-1936-4c35-e833-07867cf7f802"
      },
      "execution_count": 8,
      "outputs": [
        {
          "output_type": "stream",
          "name": "stdout",
          "text": [
            "+----------+-------------+\n",
            "|date_built|average_price|\n",
            "+----------+-------------+\n",
            "|      2016|    290555.07|\n",
            "|      2012|    293683.19|\n",
            "|      2017|    292676.79|\n",
            "|      2014|    290852.27|\n",
            "|      2013|    295962.27|\n",
            "|      2011|    291117.47|\n",
            "|      2015|     288770.3|\n",
            "|      2010|    292859.62|\n",
            "+----------+-------------+\n",
            "\n"
          ]
        }
      ]
    },
    {
      "cell_type": "code",
      "source": [
        "# filter the houses with 3 bedrooms 3 bathrooms\n",
        "three_house = df.filter(df[\"bedrooms\"] == 3)\n",
        "three_bb_house = three_house.filter(three_house['bathrooms'] ==3)\n",
        "\n",
        "# group by the year built and getting the average\n",
        "three_bb_price_by_year = three_bb_house.groupBy(\"date_built\").agg({\"price\" : \"avg\"})\n",
        "\n",
        "# round the avg(price) by two decimals\n",
        "three_bb_price = three_bb_price_by_year.withColumn('rounded avg(price)',\n",
        "                                                   round((three_bb_price_by_year['avg(price)']), 2))\n",
        "\n",
        "# show only the date_built and the rounded average price\n",
        "three_bb_price.select(['date_built', 'rounded avg(price)']).show()"
      ],
      "metadata": {
        "colab": {
          "base_uri": "https://localhost:8080/"
        },
        "id": "iYp_PJLqiRU8",
        "outputId": "d21491ab-9a7a-4f7a-d93a-ec95522a087b"
      },
      "execution_count": 9,
      "outputs": [
        {
          "output_type": "stream",
          "name": "stdout",
          "text": [
            "+----------+------------------+\n",
            "|date_built|rounded avg(price)|\n",
            "+----------+------------------+\n",
            "|      2016|         290555.07|\n",
            "|      2012|         293683.19|\n",
            "|      2017|         292676.79|\n",
            "|      2014|         290852.27|\n",
            "|      2013|         295962.27|\n",
            "|      2011|         291117.47|\n",
            "|      2015|          288770.3|\n",
            "|      2010|         292859.62|\n",
            "+----------+------------------+\n",
            "\n"
          ]
        }
      ]
    },
    {
      "cell_type": "code",
      "source": [
        "# 5. What is the average price of a home for each year built that have 3 bedrooms, 3 bathrooms, with two floors,\n",
        "# and are greater than or equal to 2,000 square feet rounded to two decimal places?\n",
        "\n",
        "spark.sql(\"\"\"SELECT date_built,\n",
        "    ROUND(AVG(price), 2) AS average_price\n",
        "    FROM home_sales\n",
        "    WHERE bedrooms = 3 AND  bathrooms = 3 AND floors = 2 AND sqft_living >= 2000\n",
        "    GROUP BY date_built\n",
        "\"\"\").show()"
      ],
      "metadata": {
        "colab": {
          "base_uri": "https://localhost:8080/"
        },
        "id": "KIcVvjP6iXX7",
        "outputId": "5395e305-4e5f-4801-c5e6-6e60253b18f9"
      },
      "execution_count": 10,
      "outputs": [
        {
          "output_type": "stream",
          "name": "stdout",
          "text": [
            "+----------+-------------+\n",
            "|date_built|average_price|\n",
            "+----------+-------------+\n",
            "|      2016|     293965.1|\n",
            "|      2012|    307539.97|\n",
            "|      2017|    280317.58|\n",
            "|      2014|    298264.72|\n",
            "|      2013|    303676.79|\n",
            "|      2011|    276553.81|\n",
            "|      2015|    297609.97|\n",
            "|      2010|    285010.22|\n",
            "+----------+-------------+\n",
            "\n"
          ]
        }
      ]
    },
    {
      "cell_type": "code",
      "source": [
        "# filter the houses with 3 bedrooms 3 bathrooms, 2 floors, and >= 2000sqf\n",
        "three_b_house = df.filter((df[\"bedrooms\"] == 3) & (df['bathrooms'] ==3) & (df['floors'] == 2))\n",
        "three_bbfsqft_house = three_b_house.filter(three_b_house['sqft_living'] >= 2000)\n",
        "\n",
        "# group by the year built and getting the average\n",
        "three_bbfsqft_price_by_year = three_bbfsqft_house.groupBy(\"date_built\").agg({\"price\" : \"avg\"})\n",
        "\n",
        "# round the avg(price) by two decimals\n",
        "three_bbfsqft_price = three_bbfsqft_price_by_year.withColumn('rounded avg(price)',\n",
        "                                                             round((three_bbfsqft_price_by_year['avg(price)']), 2))\n",
        "\n",
        "# show only the date_built and the rounded average price\n",
        "three_bbfsqft_price.select(['date_built', 'rounded avg(price)']).show()"
      ],
      "metadata": {
        "colab": {
          "base_uri": "https://localhost:8080/"
        },
        "id": "jOX074n4idBt",
        "outputId": "33db92ad-0ce8-40f2-a680-dfcea4630821"
      },
      "execution_count": 11,
      "outputs": [
        {
          "output_type": "stream",
          "name": "stdout",
          "text": [
            "+----------+------------------+\n",
            "|date_built|rounded avg(price)|\n",
            "+----------+------------------+\n",
            "|      2016|          293965.1|\n",
            "|      2012|         307539.97|\n",
            "|      2017|         280317.58|\n",
            "|      2014|         298264.72|\n",
            "|      2013|         303676.79|\n",
            "|      2011|         276553.81|\n",
            "|      2015|         297609.97|\n",
            "|      2010|         285010.22|\n",
            "+----------+------------------+\n",
            "\n"
          ]
        }
      ]
    },
    {
      "cell_type": "code",
      "source": [
        "# 6. What is the \"view\" rating for the average price of a home, rounded to two decimal places, where the homes are greater than\n",
        "# or equal to $350,000? Although this is a small dataset, determine the run time for this query.\n",
        "\n",
        "start_time = time.time()\n",
        "\n",
        "spark.sql(\"\"\"SELECT ROUND(AVG(view), 2) AS average_view\n",
        "    FROM home_sales\n",
        "    WHERE price >= 350000\n",
        "\"\"\").show()\n",
        "\n",
        "print(\"--- %s seconds ---\" % (time.time() - start_time))"
      ],
      "metadata": {
        "colab": {
          "base_uri": "https://localhost:8080/"
        },
        "id": "qu3EXo8eipUJ",
        "outputId": "86da5c3b-4c6d-4aa6-e056-48f4654c77e0"
      },
      "execution_count": 12,
      "outputs": [
        {
          "output_type": "stream",
          "name": "stdout",
          "text": [
            "+------------+\n",
            "|average_view|\n",
            "+------------+\n",
            "|       32.26|\n",
            "+------------+\n",
            "\n",
            "--- 0.4127004146575928 seconds ---\n"
          ]
        }
      ]
    },
    {
      "cell_type": "code",
      "source": [
        "start_time = time.time()\n",
        "\n",
        "# houses greater or equal to $350,000\n",
        "vh_price = df.filter(df[\"price\"] >= 350000)\n",
        "\n",
        "# getting the average of view\n",
        "vh_price_avg = vh_price.agg({\"view\" : \"avg\"})\n",
        "\n",
        "# round the avg(view) by two decimals\n",
        "vh = vh_price_avg.withColumn('rounded avg(view)', round((vh_price_avg['avg(view)']), 2))\n",
        "\n",
        "# show only the data with rounded decimals\n",
        "vh.select(['rounded avg(view)']).show()\n",
        "\n",
        "print(\"--- %s seconds ---\" % (time.time() - start_time))"
      ],
      "metadata": {
        "colab": {
          "base_uri": "https://localhost:8080/"
        },
        "id": "WTs6XhDIivjy",
        "outputId": "300c115b-b1f4-4e6e-8fb7-64edb653cee2"
      },
      "execution_count": 13,
      "outputs": [
        {
          "output_type": "stream",
          "name": "stdout",
          "text": [
            "+-----------------+\n",
            "|rounded avg(view)|\n",
            "+-----------------+\n",
            "|            32.26|\n",
            "+-----------------+\n",
            "\n",
            "--- 0.30066847801208496 seconds ---\n"
          ]
        }
      ]
    },
    {
      "cell_type": "code",
      "source": [
        "\n",
        "\n",
        "# 7. Cache the temporary table home_sales\n",
        "\n",
        "spark.catalog.cacheTable(\"home_sales\")\n",
        "\n",
        "\n"
      ],
      "metadata": {
        "id": "AF67kgq1i4GA"
      },
      "execution_count": 18,
      "outputs": []
    },
    {
      "cell_type": "code",
      "source": [
        "# 8. Check if the table is cached.\n",
        "spark.catalog.isCached('home_sales')"
      ],
      "metadata": {
        "colab": {
          "base_uri": "https://localhost:8080/"
        },
        "id": "WWCO1i9Aawcx",
        "outputId": "4fe9ee6b-9ddc-493e-bbf3-20ce102275dc"
      },
      "execution_count": 20,
      "outputs": [
        {
          "output_type": "execute_result",
          "data": {
            "text/plain": [
              "True"
            ]
          },
          "metadata": {},
          "execution_count": 20
        }
      ]
    },
    {
      "cell_type": "code",
      "source": [
        "# 9. Using the cached data, run the query that filters out the view ratings with average price\n",
        "#  greater than or equal to $350,000. Determine the runtime and compare it to uncached runtime.\n",
        "start_time = time.time()\n",
        "\n",
        "spark.sql(\"\"\"SELECT ROUND(AVG(view), 2) AS average_view\n",
        "    FROM home_sales\n",
        "    WHERE price >= 350000\n",
        "\"\"\").show()\n",
        "\n",
        "print(\"--- %s seconds ---\" % (time.time() - start_time))"
      ],
      "metadata": {
        "colab": {
          "base_uri": "https://localhost:8080/"
        },
        "id": "ZNhcaUQMa3Vh",
        "outputId": "4a99415b-2d30-4baf-e5df-754a448dba24"
      },
      "execution_count": 22,
      "outputs": [
        {
          "output_type": "stream",
          "name": "stdout",
          "text": [
            "+------------+\n",
            "|average_view|\n",
            "+------------+\n",
            "|       32.26|\n",
            "+------------+\n",
            "\n",
            "--- 0.1875460147857666 seconds ---\n"
          ]
        }
      ]
    },
    {
      "cell_type": "code",
      "source": [
        "start_time = time.time()\n",
        "\n",
        "# houses greater or equal to $350,000\n",
        "vh_price = df.filter(df[\"price\"] >= 350000)\n",
        "\n",
        "# getting the average of view\n",
        "vh_price_avg = vh_price.agg({\"view\" : \"avg\"})\n",
        "\n",
        "# round the avg(view) by two decimals\n",
        "vh = vh_price_avg.withColumn('rounded avg(view)', round((vh_price_avg['avg(view)']), 2))\n",
        "\n",
        "# show only the data with rounded decimals\n",
        "vh.select(['rounded avg(view)']).show()\n",
        "\n",
        "print(\"--- %s seconds ---\" % (time.time() - start_time))"
      ],
      "metadata": {
        "colab": {
          "base_uri": "https://localhost:8080/"
        },
        "id": "Ef9WBvRhbKGa",
        "outputId": "e53bc0f9-10a1-4691-cf47-c0bf95f7804c"
      },
      "execution_count": 23,
      "outputs": [
        {
          "output_type": "stream",
          "name": "stdout",
          "text": [
            "+-----------------+\n",
            "|rounded avg(view)|\n",
            "+-----------------+\n",
            "|            32.26|\n",
            "+-----------------+\n",
            "\n",
            "--- 0.23142194747924805 seconds ---\n"
          ]
        }
      ]
    },
    {
      "cell_type": "code",
      "source": [
        "# 10. Partition by the \"date_built\" field on the formatted parquet home sales data\n",
        "\n",
        "df.write.partitionBy(\"date_built\").parquet(\"hs_partitioned\", mode =\"overwrite\")"
      ],
      "metadata": {
        "id": "mp4Q9YVEbQDB"
      },
      "execution_count": 24,
      "outputs": []
    },
    {
      "cell_type": "code",
      "source": [
        "# 11. Read the parquet formatted data.\n",
        "hsp_df = spark.read.parquet('hs_partitioned')"
      ],
      "metadata": {
        "id": "yf6rMTP6bWUk"
      },
      "execution_count": 25,
      "outputs": []
    },
    {
      "cell_type": "code",
      "source": [
        "# 12. Create a temporary table for the parquet data.\n",
        "spark.sql('uncache table home_sales')"
      ],
      "metadata": {
        "colab": {
          "base_uri": "https://localhost:8080/"
        },
        "id": "y9QfnMsvbaeB",
        "outputId": "cfb2bdc9-0bc4-4f4d-9c82-32ac14d4c83d"
      },
      "execution_count": 26,
      "outputs": [
        {
          "output_type": "execute_result",
          "data": {
            "text/plain": [
              "DataFrame[]"
            ]
          },
          "metadata": {},
          "execution_count": 26
        }
      ]
    },
    {
      "cell_type": "code",
      "source": [
        "# 13. Run the query that filters out the view ratings with average price of greater than or equal to $350,000\n",
        "# with the parquet DataFrame. Round your average to two decimal places.\n",
        "# Determine the runtime and compare it to the cached version.\n",
        "\n",
        "start_time = time.time()\n",
        "\n",
        "spark.sql(\"\"\"SELECT ROUND(AVG(view), 2) AS average_view\n",
        "    FROM home_sales\n",
        "    WHERE price >= 350000\n",
        "\"\"\").show()\n",
        "\n",
        "print(\"--- %s seconds ---\" % (time.time() - start_time))"
      ],
      "metadata": {
        "colab": {
          "base_uri": "https://localhost:8080/"
        },
        "id": "BFhDGzI5bee_",
        "outputId": "7bee20c7-d764-4880-e088-829b64115d65"
      },
      "execution_count": 27,
      "outputs": [
        {
          "output_type": "stream",
          "name": "stdout",
          "text": [
            "+------------+\n",
            "|average_view|\n",
            "+------------+\n",
            "|       32.26|\n",
            "+------------+\n",
            "\n",
            "--- 0.2617645263671875 seconds ---\n"
          ]
        }
      ]
    },
    {
      "cell_type": "code",
      "source": [
        "# 14. Uncache the home_sales temporary table.\n",
        "spark.sql('uncache table home_sales')"
      ],
      "metadata": {
        "colab": {
          "base_uri": "https://localhost:8080/"
        },
        "id": "mAfmfxAJboQC",
        "outputId": "e0469da6-43e8-4cf7-b978-7a74e6310030"
      },
      "execution_count": 28,
      "outputs": [
        {
          "output_type": "execute_result",
          "data": {
            "text/plain": [
              "DataFrame[]"
            ]
          },
          "metadata": {},
          "execution_count": 28
        }
      ]
    },
    {
      "cell_type": "code",
      "source": [
        "# 15. Check if the home_sales is no longer cached\n",
        "spark.catalog.isCached('home_sales')"
      ],
      "metadata": {
        "colab": {
          "base_uri": "https://localhost:8080/"
        },
        "id": "B9xgjNNhbqNu",
        "outputId": "9d2232e5-1ccd-40fb-ee2e-2b37507f8ecf"
      },
      "execution_count": 29,
      "outputs": [
        {
          "output_type": "execute_result",
          "data": {
            "text/plain": [
              "False"
            ]
          },
          "metadata": {},
          "execution_count": 29
        }
      ]
    }
  ]
}